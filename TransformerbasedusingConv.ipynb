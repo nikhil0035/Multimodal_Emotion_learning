{
 "cells": [
  {
   "cell_type": "code",
   "execution_count": 4,
   "id": "871ec6d4-8971-4bcc-9161-88c05f3ea2ea",
   "metadata": {},
   "outputs": [
    {
     "name": "stdout",
     "output_type": "stream",
     "text": [
      "Python 3.10.12\n"
     ]
    }
   ],
   "source": [
    "!python --version"
   ]
  },
  {
   "cell_type": "code",
   "execution_count": 2,
   "id": "92171f68-8a85-4e8d-846a-b2d35063334e",
   "metadata": {},
   "outputs": [
    {
     "name": "stderr",
     "output_type": "stream",
     "text": [
      "2023-08-08 16:04:23.063949: I tensorflow/core/platform/cpu_feature_guard.cc:182] This TensorFlow binary is optimized to use available CPU instructions in performance-critical operations.\n",
      "To enable the following instructions: AVX2 FMA, in other operations, rebuild TensorFlow with the appropriate compiler flags.\n",
      "2023-08-08 16:04:23.914566: W tensorflow/compiler/tf2tensorrt/utils/py_utils.cc:38] TF-TRT Warning: Could not find TensorRT\n"
     ]
    }
   ],
   "source": [
    "import os\n",
    "import numpy as np\n",
    "from sklearn.preprocessing import label_binarize\n",
    "from keras.models import Sequential, Model\n",
    "from tensorflow.keras.layers import LSTM, Input, Flatten, Add, concatenate, Embedding, Convolution1D, Dropout, Dense, Bidirectional,Dense, Activation,Conv2D,BatchNormalization,MultiHeadAttention,LayerNormalization,Reshape,Attention\n",
    "\n",
    "from keras.optimizers import SGD, Adam, RMSprop\n",
    "from keras.preprocessing.text import Tokenizer\n",
    "from keras.preprocessing.sequence import pad_sequences\n",
    "from keras.preprocessing import sequence\n",
    "from keras import optimizers\n"
   ]
  },
  {
   "cell_type": "code",
   "execution_count": 3,
   "id": "fe3573db-f0cf-49a6-ae62-d3a3e3b66a91",
   "metadata": {},
   "outputs": [],
   "source": [
    "\n",
    "emotions_used = np.array(['ang', 'exc', 'neu', 'sad'])\n"
   ]
  },
  {
   "cell_type": "code",
   "execution_count": 4,
   "id": "09dd91d5-4fe8-4078-9776-a7941e332472",
   "metadata": {},
   "outputs": [],
   "source": [
    "# read already saved pickle data\n",
    "import pickle\n",
    "with open(data_path +'data.pickle', 'rb') as handle:\n",
    "    data2 = pickle.load(handle)"
   ]
  },
  {
   "cell_type": "code",
   "execution_count": 5,
   "id": "4674aa31",
   "metadata": {},
   "outputs": [],
   "source": [
    "text = []\n",
    "\n",
    "for ses_mod in data2:\n",
    "    text.append(ses_mod['transcription'])\n",
    "    \n",
    "MAX_SEQUENCE_LENGTH = 500\n",
    "\n",
    "tokenizer = Tokenizer()\n",
    "tokenizer.fit_on_texts(text)\n",
    "\n",
    "token_tr_X = tokenizer.texts_to_sequences(text)\n",
    "x_train_text = []\n",
    "\n",
    "x_train_text = sequence.pad_sequences(token_tr_X, maxlen=MAX_SEQUENCE_LENGTH)"
   ]
  },
  {
   "cell_type": "code",
   "execution_count": 6,
   "id": "e54ebf43",
   "metadata": {},
   "outputs": [
    {
     "name": "stdout",
     "output_type": "stream",
     "text": [
      "Found 2736 unique tokens\n",
      "glove.840B.300d.txt\n",
      "G Word embeddings: 2196018\n",
      "G Null word embeddings: 100\n"
     ]
    }
   ],
   "source": [
    "import codecs\n",
    "EMBEDDING_DIM = 300\n",
    "\n",
    "word_index = tokenizer.word_index\n",
    "print('Found %s unique tokens' % len(word_index))\n",
    "\n",
    "#file_loc = data_path + '../glove.42B.300d.txt'\n",
    "file_loc = 'glove.840B.300d.txt'\n",
    "print (file_loc)\n",
    "\n",
    "gembeddings_index = {}\n",
    "with codecs.open(file_loc, encoding='utf-8') as f:\n",
    "    for line in f:\n",
    "        values = line.split(' ')\n",
    "        word = values[0]\n",
    "        gembedding = np.asarray(values[1:], dtype='float32')\n",
    "        gembeddings_index[word] = gembedding\n",
    "#\n",
    "f.close()\n",
    "print('G Word embeddings:', len(gembeddings_index))\n",
    "\n",
    "nb_words = len(word_index) +1\n",
    "g_word_embedding_matrix = np.zeros((nb_words, EMBEDDING_DIM))\n",
    "for word, i in word_index.items():\n",
    "    gembedding_vector = gembeddings_index.get(word)\n",
    "    if gembedding_vector is not None:\n",
    "        g_word_embedding_matrix[i] = gembedding_vector\n",
    "        \n",
    "print('G Null word embeddings: %d' % np.sum(np.sum(g_word_embedding_matrix, axis=1) == 0))"
   ]
  },
  {
   "cell_type": "code",
   "execution_count": 10,
   "id": "5e4dce70-3c37-4573-a1b6-8fb469cc3927",
   "metadata": {},
   "outputs": [
    {
     "name": "stdout",
     "output_type": "stream",
     "text": [
      "(4936, 100, 34)\n",
      "(4936, 100, 34, 1)\n"
     ]
    }
   ],
   "source": [
    "x_train_speech = np.load('speech.npy')\n",
    "print(x_train_speech.shape)\n",
    "x_train_new = x_train_speech.reshape((x_train_speech.shape[0],x_train_speech.shape[1],x_train_speech.shape[2],1))\n",
    "print(x_train_new.shape)\n",
    "inputshape= x_train_new.shape"
   ]
  },
  {
   "cell_type": "code",
   "execution_count": 11,
   "id": "e17aba51-c4d4-49b1-91cc-6630eae35bc3",
   "metadata": {},
   "outputs": [
    {
     "data": {
      "text/plain": [
       "(4936, 4)"
      ]
     },
     "execution_count": 11,
     "metadata": {},
     "output_type": "execute_result"
    }
   ],
   "source": [
    "# read output label\n",
    "Y=[]\n",
    "for ses_mod in data2:\n",
    "    Y.append(ses_mod['emotion'])\n",
    "    \n",
    "Y = label_binarize(y=Y,classes=emotions_used)\n",
    "\n",
    "Y.shape"
   ]
  },
  {
   "cell_type": "code",
   "execution_count": 1,
   "id": "6b9b6711",
   "metadata": {},
   "outputs": [
    {
     "name": "stderr",
     "output_type": "stream",
     "text": [
      "2023-08-10 10:14:23.472205: I tensorflow/core/platform/cpu_feature_guard.cc:182] This TensorFlow binary is optimized to use available CPU instructions in performance-critical operations.\n",
      "To enable the following instructions: AVX2 FMA, in other operations, rebuild TensorFlow with the appropriate compiler flags.\n",
      "2023-08-10 10:14:24.630867: W tensorflow/compiler/tf2tensorrt/utils/py_utils.cc:38] TF-TRT Warning: Could not find TensorRT\n"
     ]
    },
    {
     "name": "stdout",
     "output_type": "stream",
     "text": [
      "Num GPUs Available:  4\n"
     ]
    }
   ],
   "source": [
    "# layer = MultiHeadAttention(num_heads =2, key_dim =64, use_bias=False)\n",
    "# layer_vanilla = Attention()\n",
    "# norm2 = LayerNormalization(epsilon=1e-6)\n",
    "\n",
    "# from keras_nlp.layers import TransformerEncoder\n",
    "# encoder = TransformerEncoder(intermediate_dim=64, num_heads=8)\n",
    "import tensorflow as tf\n",
    "print(\"Num GPUs Available: \", len(tf.config.list_physical_devices('GPU')))"
   ]
  },
  {
   "cell_type": "code",
   "execution_count": null,
   "id": "0df72880",
   "metadata": {},
   "outputs": [],
   "source": []
  },
  {
   "cell_type": "code",
   "execution_count": 14,
   "id": "59925731",
   "metadata": {},
   "outputs": [
    {
     "name": "stderr",
     "output_type": "stream",
     "text": [
      "2023-08-08 16:08:16.657273: I tensorflow/core/common_runtime/gpu/gpu_device.cc:1639] Created device /job:localhost/replica:0/task:0/device:GPU:0 with 6644 MB memory:  -> device: 0, name: NVIDIA GeForce RTX 2070, pci bus id: 0000:02:00.0, compute capability: 7.5\n",
      "2023-08-08 16:08:16.657987: I tensorflow/core/common_runtime/gpu/gpu_device.cc:1639] Created device /job:localhost/replica:0/task:0/device:GPU:1 with 1114 MB memory:  -> device: 1, name: NVIDIA GeForce RTX 2070, pci bus id: 0000:04:00.0, compute capability: 7.5\n",
      "2023-08-08 16:08:16.658596: I tensorflow/core/common_runtime/gpu/gpu_device.cc:1639] Created device /job:localhost/replica:0/task:0/device:GPU:2 with 3476 MB memory:  -> device: 2, name: NVIDIA GeForce RTX 2070, pci bus id: 0000:83:00.0, compute capability: 7.5\n",
      "2023-08-08 16:08:16.659252: I tensorflow/core/common_runtime/gpu/gpu_device.cc:1639] Created device /job:localhost/replica:0/task:0/device:GPU:3 with 6644 MB memory:  -> device: 3, name: NVIDIA GeForce RTX 2070, pci bus id: 0000:84:00.0, compute capability: 7.5\n"
     ]
    }
   ],
   "source": [
    "# USE Keras API model\n",
    "text_input = Input(shape=(MAX_SEQUENCE_LENGTH,))\n",
    "model_text = Embedding(nb_words,\n",
    "                      EMBEDDING_DIM,\n",
    "                      weights = [g_word_embedding_matrix],\n",
    "                      input_length = MAX_SEQUENCE_LENGTH)(text_input)\n",
    "conv1 = Convolution1D(256, 3, padding='same', activation='relu')(model_text)\n",
    "conv2 = Convolution1D(128, 3, padding='same', activation='relu')(conv1)\n",
    "conv3 = Convolution1D(64, 3, padding='same', activation='relu')(conv2)\n",
    "conv4 = Convolution1D(128, 3, padding='same', activation='relu')(conv3)\n",
    "flat = Flatten()(conv4)\n",
    "out_text = Dense(256)(flat)\n",
    "\n",
    "speech_input = Input(shape=(100,34))\n",
    "model_speech1 = Flatten()(speech_input)\n",
    "model_speech2 = Dense(1024, activation='relu')(model_speech1)\n",
    "model_speech3 = Dense(512, activation='relu')(model_speech2)\n",
    "out_speech = Dense(256, activation='relu')(model_speech3)\n",
    "\n",
    "# model_combined1 = concatenate([out_text, out_speech])\n",
    "# # model_combined1 = Reshape((2,256))(model_combined1)\n",
    "# att = encoder.call(model_combined1)\n",
    "# # x3 = norm2(att)\n",
    "# # x3 = layer_vanilla([model_combined1,model_combined1])\n",
    "\n",
    "encoder_input  = tf.keras.layers.Concatenate()([out_text,out_speech])\n",
    "encoder_input = tf.keras.layers.Reshape((2,256))(encoder_input)\n",
    "output_t = encoder(encoder_input)\n",
    "output_t = tf.keras.layers.Reshape((1,512))(output_t)\n",
    "\n",
    "current_shape = output_t.shape.as_list()\n",
    "\n",
    "new_shape = (-1, current_shape[-1])\n",
    "output_t = tf.reshape(output_t, new_shape)\n",
    "\n",
    "model_combined2 = Dense(256, activation='relu')(output_t)\n",
    "model_combined3 = Dense(4, activation='softmax')(model_combined2)\n",
    "\n",
    "# model compile\n",
    "model_combined = Model([text_input, speech_input], model_combined3)\n",
    "model_combined.compile(loss='categorical_crossentropy', optimizer='adam', metrics=['acc'])"
   ]
  },
  {
   "cell_type": "code",
   "execution_count": 15,
   "id": "372db18a",
   "metadata": {},
   "outputs": [
    {
     "name": "stdout",
     "output_type": "stream",
     "text": [
      "Epoch 1/50\n"
     ]
    },
    {
     "name": "stderr",
     "output_type": "stream",
     "text": [
      "2023-08-08 16:08:20.086063: W tensorflow/tsl/framework/cpu_allocator_impl.cc:83] Allocation of 53692800 exceeds 10% of free system memory.\n",
      "2023-08-08 16:08:20.178136: W tensorflow/tsl/framework/cpu_allocator_impl.cc:83] Allocation of 53692800 exceeds 10% of free system memory.\n",
      "2023-08-08 16:08:28.704830: I tensorflow/compiler/xla/stream_executor/cuda/cuda_dnn.cc:432] Loaded cuDNN version 8600\n",
      "2023-08-08 16:08:29.463015: I tensorflow/tsl/platform/default/subprocess.cc:304] Start cannot spawn child process: No such file or directory\n",
      "2023-08-08 16:08:29.737645: I tensorflow/compiler/xla/service/service.cc:168] XLA service 0x10f417d80 initialized for platform CUDA (this does not guarantee that XLA will be used). Devices:\n",
      "2023-08-08 16:08:29.737685: I tensorflow/compiler/xla/service/service.cc:176]   StreamExecutor device (0): NVIDIA GeForce RTX 2070, Compute Capability 7.5\n",
      "2023-08-08 16:08:29.737699: I tensorflow/compiler/xla/service/service.cc:176]   StreamExecutor device (1): NVIDIA GeForce RTX 2070, Compute Capability 7.5\n",
      "2023-08-08 16:08:29.737708: I tensorflow/compiler/xla/service/service.cc:176]   StreamExecutor device (2): NVIDIA GeForce RTX 2070, Compute Capability 7.5\n",
      "2023-08-08 16:08:29.737715: I tensorflow/compiler/xla/service/service.cc:176]   StreamExecutor device (3): NVIDIA GeForce RTX 2070, Compute Capability 7.5\n",
      "2023-08-08 16:08:29.744105: I tensorflow/compiler/mlir/tensorflow/utils/dump_mlir_util.cc:255] disabling MLIR crash reproducer, set env var `MLIR_CRASH_REPRODUCER_DIRECTORY` to enable.\n",
      "2023-08-08 16:08:29.832995: I tensorflow/tsl/platform/default/subprocess.cc:304] Start cannot spawn child process: No such file or directory\n",
      "2023-08-08 16:08:29.897495: I ./tensorflow/compiler/jit/device_compiler.h:186] Compiled cluster using XLA!  This line is logged at most once for the lifetime of the process.\n"
     ]
    },
    {
     "name": "stdout",
     "output_type": "stream",
     "text": [
      "124/124 [==============================] - 30s 133ms/step - loss: 1.4628 - acc: 0.3151 - val_loss: 1.4651 - val_acc: 0.2905\n",
      "Epoch 2/50\n",
      "124/124 [==============================] - 7s 53ms/step - loss: 1.1209 - acc: 0.4752 - val_loss: 1.0274 - val_acc: 0.5547\n",
      "Epoch 3/50\n",
      "124/124 [==============================] - 4s 34ms/step - loss: 0.9466 - acc: 0.5985 - val_loss: 1.0062 - val_acc: 0.6093\n",
      "Epoch 4/50\n",
      "124/124 [==============================] - 3s 28ms/step - loss: 0.7914 - acc: 0.6735 - val_loss: 1.0370 - val_acc: 0.5982\n",
      "Epoch 5/50\n",
      "124/124 [==============================] - 3s 26ms/step - loss: 0.6506 - acc: 0.7378 - val_loss: 0.9048 - val_acc: 0.6498\n",
      "Epoch 6/50\n",
      "124/124 [==============================] - 3s 26ms/step - loss: 0.5478 - acc: 0.7933 - val_loss: 1.0563 - val_acc: 0.6457\n",
      "Epoch 7/50\n",
      "124/124 [==============================] - 3s 25ms/step - loss: 0.4398 - acc: 0.8440 - val_loss: 0.9976 - val_acc: 0.6498\n",
      "Epoch 8/50\n",
      "124/124 [==============================] - 3s 23ms/step - loss: 0.3774 - acc: 0.8645 - val_loss: 1.1038 - val_acc: 0.6437\n",
      "Epoch 9/50\n",
      "124/124 [==============================] - 3s 22ms/step - loss: 0.3329 - acc: 0.8782 - val_loss: 1.2011 - val_acc: 0.6498\n",
      "Epoch 10/50\n",
      "124/124 [==============================] - 2s 20ms/step - loss: 0.3046 - acc: 0.8911 - val_loss: 1.3080 - val_acc: 0.6296\n",
      "Epoch 11/50\n",
      "124/124 [==============================] - 2s 20ms/step - loss: 0.2876 - acc: 0.8992 - val_loss: 1.1859 - val_acc: 0.6538\n",
      "Epoch 12/50\n",
      "124/124 [==============================] - 4s 28ms/step - loss: 0.2274 - acc: 0.9177 - val_loss: 1.5756 - val_acc: 0.6377\n",
      "Epoch 13/50\n",
      "124/124 [==============================] - 3s 22ms/step - loss: 0.2302 - acc: 0.9154 - val_loss: 1.2788 - val_acc: 0.6498\n",
      "Epoch 14/50\n",
      "124/124 [==============================] - 2s 18ms/step - loss: 0.2090 - acc: 0.9253 - val_loss: 1.4065 - val_acc: 0.6670\n",
      "Epoch 15/50\n",
      "124/124 [==============================] - 2s 20ms/step - loss: 0.1726 - acc: 0.9367 - val_loss: 1.6146 - val_acc: 0.6215\n",
      "Epoch 16/50\n",
      "124/124 [==============================] - 2s 20ms/step - loss: 0.2065 - acc: 0.9296 - val_loss: 1.4837 - val_acc: 0.6478\n",
      "Epoch 17/50\n",
      "124/124 [==============================] - 3s 20ms/step - loss: 0.2194 - acc: 0.9215 - val_loss: 1.4629 - val_acc: 0.6235\n",
      "Epoch 18/50\n",
      "124/124 [==============================] - 2s 20ms/step - loss: 0.1771 - acc: 0.9384 - val_loss: 1.4931 - val_acc: 0.6589\n",
      "Epoch 19/50\n",
      "124/124 [==============================] - 2s 20ms/step - loss: 0.1342 - acc: 0.9501 - val_loss: 1.7797 - val_acc: 0.6326\n",
      "Epoch 20/50\n",
      "124/124 [==============================] - 3s 24ms/step - loss: 0.1383 - acc: 0.9486 - val_loss: 1.5348 - val_acc: 0.6407\n",
      "Epoch 21/50\n",
      "124/124 [==============================] - 2s 20ms/step - loss: 0.1164 - acc: 0.9585 - val_loss: 2.1235 - val_acc: 0.6407\n",
      "Epoch 22/50\n",
      "124/124 [==============================] - 2s 18ms/step - loss: 0.1099 - acc: 0.9602 - val_loss: 1.8239 - val_acc: 0.6356\n",
      "Epoch 23/50\n",
      "124/124 [==============================] - 3s 20ms/step - loss: 0.1112 - acc: 0.9607 - val_loss: 1.7227 - val_acc: 0.6640\n",
      "Epoch 24/50\n",
      "124/124 [==============================] - 3s 20ms/step - loss: 0.1194 - acc: 0.9569 - val_loss: 1.8050 - val_acc: 0.6326\n",
      "Epoch 25/50\n",
      "124/124 [==============================] - 3s 22ms/step - loss: 0.1943 - acc: 0.9367 - val_loss: 1.7787 - val_acc: 0.6316\n",
      "Epoch 26/50\n",
      "124/124 [==============================] - 3s 20ms/step - loss: 0.1274 - acc: 0.9567 - val_loss: 1.6253 - val_acc: 0.6721\n",
      "Epoch 27/50\n",
      "124/124 [==============================] - 2s 18ms/step - loss: 0.1065 - acc: 0.9623 - val_loss: 1.8342 - val_acc: 0.6569\n",
      "Epoch 28/50\n",
      "124/124 [==============================] - 2s 20ms/step - loss: 0.1346 - acc: 0.9564 - val_loss: 1.6866 - val_acc: 0.6619\n",
      "Epoch 29/50\n",
      "124/124 [==============================] - 3s 22ms/step - loss: 0.1025 - acc: 0.9635 - val_loss: 1.8195 - val_acc: 0.6528\n",
      "Epoch 30/50\n",
      "124/124 [==============================] - 3s 20ms/step - loss: 0.1733 - acc: 0.9392 - val_loss: 1.3310 - val_acc: 0.6154\n",
      "Epoch 31/50\n",
      "124/124 [==============================] - 2s 19ms/step - loss: 0.1692 - acc: 0.9367 - val_loss: 1.6093 - val_acc: 0.6488\n",
      "Epoch 32/50\n",
      "124/124 [==============================] - 3s 23ms/step - loss: 0.1097 - acc: 0.9618 - val_loss: 1.6874 - val_acc: 0.6619\n",
      "Epoch 33/50\n",
      "124/124 [==============================] - 2s 19ms/step - loss: 0.1434 - acc: 0.9435 - val_loss: 1.9062 - val_acc: 0.6316\n",
      "Epoch 34/50\n",
      "124/124 [==============================] - 2s 18ms/step - loss: 0.0905 - acc: 0.9673 - val_loss: 1.6900 - val_acc: 0.6660\n",
      "Epoch 35/50\n",
      "124/124 [==============================] - 2s 19ms/step - loss: 0.1047 - acc: 0.9643 - val_loss: 1.5521 - val_acc: 0.6711\n",
      "Epoch 36/50\n",
      "124/124 [==============================] - 2s 18ms/step - loss: 0.0956 - acc: 0.9648 - val_loss: 1.8755 - val_acc: 0.6640\n",
      "Epoch 37/50\n",
      "124/124 [==============================] - 2s 19ms/step - loss: 0.1453 - acc: 0.9488 - val_loss: 1.6360 - val_acc: 0.6508\n",
      "Epoch 38/50\n",
      "124/124 [==============================] - 3s 20ms/step - loss: 0.1158 - acc: 0.9552 - val_loss: 1.6646 - val_acc: 0.6812\n",
      "Epoch 39/50\n",
      "124/124 [==============================] - 2s 19ms/step - loss: 0.0811 - acc: 0.9696 - val_loss: 1.7079 - val_acc: 0.6700\n",
      "Epoch 40/50\n",
      "124/124 [==============================] - 3s 24ms/step - loss: 0.0744 - acc: 0.9724 - val_loss: 1.9432 - val_acc: 0.6417\n",
      "Epoch 41/50\n",
      "124/124 [==============================] - 3s 20ms/step - loss: 0.0572 - acc: 0.9807 - val_loss: 2.1344 - val_acc: 0.6589\n",
      "Epoch 42/50\n",
      "124/124 [==============================] - 3s 22ms/step - loss: 0.0583 - acc: 0.9782 - val_loss: 2.2940 - val_acc: 0.6468\n",
      "Epoch 43/50\n",
      "124/124 [==============================] - 3s 22ms/step - loss: 0.0640 - acc: 0.9790 - val_loss: 2.1567 - val_acc: 0.6518\n",
      "Epoch 44/50\n",
      "124/124 [==============================] - 2s 18ms/step - loss: 0.0462 - acc: 0.9853 - val_loss: 2.4098 - val_acc: 0.6619\n",
      "Epoch 45/50\n",
      "124/124 [==============================] - 2s 19ms/step - loss: 0.0604 - acc: 0.9770 - val_loss: 2.0204 - val_acc: 0.6589\n",
      "Epoch 46/50\n",
      "124/124 [==============================] - 2s 19ms/step - loss: 0.0505 - acc: 0.9825 - val_loss: 2.4041 - val_acc: 0.6609\n",
      "Epoch 47/50\n",
      "124/124 [==============================] - 2s 18ms/step - loss: 0.0425 - acc: 0.9828 - val_loss: 2.4524 - val_acc: 0.6538\n",
      "Epoch 48/50\n",
      "124/124 [==============================] - 3s 20ms/step - loss: 0.0503 - acc: 0.9820 - val_loss: 2.1289 - val_acc: 0.6356\n",
      "Epoch 49/50\n",
      "124/124 [==============================] - 3s 20ms/step - loss: 0.0666 - acc: 0.9787 - val_loss: 1.9456 - val_acc: 0.6447\n",
      "Epoch 50/50\n",
      "124/124 [==============================] - 3s 20ms/step - loss: 0.0548 - acc: 0.9823 - val_loss: 2.0274 - val_acc: 0.6549\n"
     ]
    }
   ],
   "source": [
    "hist = model_combined.fit([x_train_text, x_train_speech], Y, batch_size=32, epochs=50, verbose=1, validation_split=0.2)\n"
   ]
  },
  {
   "cell_type": "code",
   "execution_count": 16,
   "id": "c4be1b56",
   "metadata": {},
   "outputs": [
    {
     "data": {
      "image/png": "[encoded data removed]",
      "text/plain": [
       "<Figure size 640x480 with 1 Axes>"
      ]
     },
     "metadata": {},
     "output_type": "display_data"
    }
   ],
   "source": [
    "from matplotlib import pyplot as plt\n",
    "plt.plot(hist.history['acc'])\n",
    "plt.plot(hist.history['val_acc'])\n",
    "plt.title('model accuracy')\n",
    "plt.ylabel('accuracy')\n",
    "plt.xlabel('epoch')\n",
    "plt.legend(['train', 'val'], loc='upper left')\n",
    "plt.show()"
   ]
  },
  {
   "cell_type": "code",
   "execution_count": 36,
   "id": "06771437",
   "metadata": {},
   "outputs": [
    {
     "name": "stdout",
     "output_type": "stream",
     "text": [
      "You must install pydot (`pip install pydot`) and install graphviz (see instructions at https://graphviz.gitlab.io/download/) for plot_model to work.\n"
     ]
    }
   ],
   "source": [
    "dot_img_file = '/tmp/model_1.png'\n",
    "tf.keras.utils.plot_model(model_combined, to_file=dot_img_file, show_shapes=True)"
   ]
  },
  {
   "cell_type": "code",
   "execution_count": 37,
   "id": "ea0cfb6c",
   "metadata": {},
   "outputs": [
    {
     "name": "stdout",
     "output_type": "stream",
     "text": [
      "Model: \"model_2\"\n",
      "__________________________________________________________________________________________________\n",
      " Layer (type)                Output Shape                 Param #   Connected to                  \n",
      "==================================================================================================\n",
      " input_23 (InputLayer)       [(None, 500)]                0         []                            \n",
      "                                                                                                  \n",
      " embedding_11 (Embedding)    (None, 500, 300)             821100    ['input_23[0][0]']            \n",
      "                                                                                                  \n",
      " conv1d_44 (Conv1D)          (None, 500, 256)             230656    ['embedding_11[0][0]']        \n",
      "                                                                                                  \n",
      " conv1d_45 (Conv1D)          (None, 500, 128)             98432     ['conv1d_44[0][0]']           \n",
      "                                                                                                  \n",
      " input_24 (InputLayer)       [(None, 100, 34)]            0         []                            \n",
      "                                                                                                  \n",
      " conv1d_46 (Conv1D)          (None, 500, 64)              24640     ['conv1d_45[0][0]']           \n",
      "                                                                                                  \n",
      " flatten_23 (Flatten)        (None, 3400)                 0         ['input_24[0][0]']            \n",
      "                                                                                                  \n",
      " conv1d_47 (Conv1D)          (None, 500, 128)             24704     ['conv1d_46[0][0]']           \n",
      "                                                                                                  \n",
      " dense_50 (Dense)            (None, 1024)                 3482624   ['flatten_23[0][0]']          \n",
      "                                                                                                  \n",
      " flatten_22 (Flatten)        (None, 64000)                0         ['conv1d_47[0][0]']           \n",
      "                                                                                                  \n",
      " dense_51 (Dense)            (None, 512)                  524800    ['dense_50[0][0]']            \n",
      "                                                                                                  \n",
      " dense_49 (Dense)            (None, 256)                  1638425   ['flatten_22[0][0]']          \n",
      "                                                          6                                       \n",
      "                                                                                                  \n",
      " dense_52 (Dense)            (None, 256)                  131328    ['dense_51[0][0]']            \n",
      "                                                                                                  \n",
      " concatenate_11 (Concatenat  (None, 512)                  0         ['dense_49[0][0]',            \n",
      " e)                                                                  'dense_52[0][0]']            \n",
      "                                                                                                  \n",
      " reshape_6 (Reshape)         (None, 2, 256)               0         ['concatenate_11[0][0]']      \n",
      "                                                                                                  \n",
      " transformer_encoder_1 (Tra  (None, 2, 256)               297280    ['reshape_6[0][0]']           \n",
      " nsformerEncoder)                                                                                 \n",
      "                                                                                                  \n",
      " reshape_7 (Reshape)         (None, 1, 512)               0         ['transformer_encoder_1[2][0]'\n",
      "                                                                    ]                             \n",
      "                                                                                                  \n",
      " tf.reshape (TFOpLambda)     (None, 512)                  0         ['reshape_7[0][0]']           \n",
      "                                                                                                  \n",
      " dense_53 (Dense)            (None, 128)                  65664     ['tf.reshape[0][0]']          \n",
      "                                                                                                  \n",
      " dense_54 (Dense)            (None, 4)                    516       ['dense_53[0][0]']            \n",
      "                                                                                                  \n",
      "==================================================================================================\n",
      "Total params: 22086000 (84.25 MB)\n",
      "Trainable params: 22086000 (84.25 MB)\n",
      "Non-trainable params: 0 (0.00 Byte)\n",
      "__________________________________________________________________________________________________\n"
     ]
    }
   ],
   "source": [
    "model_combined.summary(0)"
   ]
  },
  {
   "cell_type": "code",
   "execution_count": null,
   "id": "4015e1d4",
   "metadata": {},
   "outputs": [],
   "source": [
    "cle"
   ]
  }
 ],
 "metadata": {
  "kernelspec": {
   "display_name": "Python 3 (ipykernel)",
   "language": "python",
   "name": "python3"
  },
  "language_info": {
   "codemirror_mode": {
    "name": "ipython",
    "version": 3
   },
   "file_extension": ".py",
   "mimetype": "text/x-python",
   "name": "python",
   "nbconvert_exporter": "python",
   "pygments_lexer": "ipython3",
   "version": "3.10.12"
  }
 },
 "nbformat": 4,
 "nbformat_minor": 5
}
